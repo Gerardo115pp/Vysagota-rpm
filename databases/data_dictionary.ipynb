{
 "cells": [
  {
   "cell_type": "code",
   "execution_count": 58,
   "metadata": {},
   "outputs": [],
   "source": [
    "import pandas as pd\n",
    "from matplotlib import pyplot as plt\n",
    "from matplotlib.backends.backend_pdf import PdfPages\n",
    "from MysqlAdmin import ConnectionAdmin as mysql\n",
    "from typing import List, Dict\n",
    "import json "
   ]
  },
  {
   "cell_type": "code",
   "execution_count": 59,
   "metadata": {},
   "outputs": [
    {
     "data": {
      "text/plain": [
       "['doctors',\n",
       " 'pacients',\n",
       " 'pacientsDoctors',\n",
       " 'questionaryMeasures',\n",
       " 'questionarys',\n",
       " 'questionarysSet',\n",
       " 'questionarysSetQuestionarys',\n",
       " 'revisions',\n",
       " 'stats']"
      ]
     },
     "execution_count": 59,
     "metadata": {},
     "output_type": "execute_result"
    }
   ],
   "source": [
    "conn = mysql.Connection('vysagota-rpm')\n",
    "tables = [table['Tables_in_vysagota-rpm'] for table in conn.get(\"show tables\")]\n",
    "tables"
   ]
  },
  {
   "cell_type": "code",
   "execution_count": 60,
   "metadata": {},
   "outputs": [],
   "source": [
    "table_desc = conn.get(f\"describe {tables[1]}\")\n"
   ]
  },
  {
   "cell_type": "code",
   "execution_count": 64,
   "metadata": {},
   "outputs": [],
   "source": [
    "\n",
    "def packDesc(desc: Dict[str, str], table_name:str) -> Dict[str, str]:\n",
    "    constraint = \"N/A\"\n",
    "    constraint = constraint if desc['Null'] != 'NO' else 'NN'\n",
    "    constraint = constraint if desc['Default'] == None  else desc['Default']\n",
    "    constraint = constraint if desc['Key'] == '' else desc['Key']\n",
    "    \n",
    "    return {\n",
    "        \"field_name\": desc[\"Field\"],\n",
    "        \"constraint\": constraint,\n",
    "        \"type\": desc[\"Type\"],\n",
    "        \"description\": \"[DESCRIPTION]\",\n",
    "        \"size\": \"8\",\n",
    "        \"table\": table_name\n",
    "    }\n",
    "    \n",
    "def getDecriptions(conn: mysql.Connection) -> List[Dict[str, str]]:\n",
    "    tables = [table['Tables_in_vysagota-rpm'] for table in conn.get(\"show tables\")]\n",
    "    descriptions = []\n",
    "    for table in tables:\n",
    "        desc = conn.get(f\"describe {table}\")\n",
    "        for field in desc:\n",
    "            descriptions.append(packDesc(field, table))\n",
    "        \n",
    "    return descriptions"
   ]
  },
  {
   "cell_type": "code",
   "execution_count": 65,
   "metadata": {},
   "outputs": [],
   "source": [
    "descriptions = getDecriptions(conn)"
   ]
  },
  {
   "cell_type": "code",
   "execution_count": 67,
   "metadata": {},
   "outputs": [],
   "source": [
    "with open('./data_dict.json', 'w') as f:\n",
    "    json.dump(descriptions, f)"
   ]
  }
 ],
 "metadata": {
  "interpreter": {
   "hash": "e7370f93d1d0cde622a1f8e1c04877d8463912d04d973331ad4851f04de6915a"
  },
  "kernelspec": {
   "display_name": "Python 3.9.7 64-bit",
   "language": "python",
   "name": "python3"
  },
  "language_info": {
   "codemirror_mode": {
    "name": "ipython",
    "version": 3
   },
   "file_extension": ".py",
   "mimetype": "text/x-python",
   "name": "python",
   "nbconvert_exporter": "python",
   "pygments_lexer": "ipython3",
   "version": "3.9.9"
  },
  "orig_nbformat": 4
 },
 "nbformat": 4,
 "nbformat_minor": 2
}
